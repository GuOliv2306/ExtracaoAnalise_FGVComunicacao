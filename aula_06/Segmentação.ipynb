{
  "cells": [
    {
      "cell_type": "markdown",
      "metadata": {
        "id": "et9mJK7ErO-j"
      },
      "source": [
        "# Aula 6 - Segmentação"
      ]
    },
    {
      "cell_type": "code",
      "execution_count": 45,
      "metadata": {
        "colab": {
          "base_uri": "https://localhost:8080/"
        },
        "id": "mC05NWhHe3YE",
        "outputId": "4f8254d4-ab65-416a-c855-cd87be2e5224"
      },
      "outputs": [
        {
          "name": "stdout",
          "output_type": "stream",
          "text": [
            "[INFO] Dimensões: (500, 10)\n",
            "[INFO] Colunas: ['Idade', 'Gênero', 'EstadoCivil', 'Escolaridade', 'RendaMensal', 'TempoNoSite(min)', 'VisitasMensais', 'ValorMedioCompra', 'CategoriaFavorita', 'Dispositivo']\n",
            "<class 'pandas.core.frame.DataFrame'>\n",
            "RangeIndex: 500 entries, 0 to 499\n",
            "Data columns (total 10 columns):\n",
            " #   Column             Non-Null Count  Dtype  \n",
            "---  ------             --------------  -----  \n",
            " 0   Idade              500 non-null    int64  \n",
            " 1   Gênero             500 non-null    object \n",
            " 2   EstadoCivil        500 non-null    object \n",
            " 3   Escolaridade       500 non-null    object \n",
            " 4   RendaMensal        500 non-null    object \n",
            " 5   TempoNoSite(min)   500 non-null    float64\n",
            " 6   VisitasMensais     500 non-null    int64  \n",
            " 7   ValorMedioCompra   500 non-null    int64  \n",
            " 8   CategoriaFavorita  500 non-null    object \n",
            " 9   Dispositivo        500 non-null    object \n",
            "dtypes: float64(1), int64(3), object(6)\n",
            "memory usage: 39.2+ KB\n",
            "None\n",
            "########################################################################################################################\n",
            "\n",
            "            Idade  TempoNoSite(min)  VisitasMensais  ValorMedioCompra\n",
            "count  500.000000        500.000000       500.00000        500.000000\n",
            "mean    44.220000          4.983060         5.00800        226.900000\n",
            "std     15.036082          4.988692         2.20855        219.585577\n",
            "min     18.000000          0.000000         0.00000         50.000000\n",
            "25%     32.000000          1.500000         3.00000        100.000000\n",
            "50%     45.000000          3.335000         5.00000        200.000000\n",
            "75%     57.000000          7.015000         6.00000        300.000000\n",
            "max     69.000000         30.640000        11.00000       1000.000000\n"
          ]
        }
      ],
      "source": [
        "import pandas as pd\n",
        "import numpy as np\n",
        "from sklearn.preprocessing import OneHotEncoder, StandardScaler\n",
        "from sklearn.decomposition import PCA\n",
        "from sklearn.cluster import KMeans\n",
        "from sklearn.metrics import silhouette_score\n",
        "import matplotlib.pyplot as plt\n",
        "\n",
        "# Ler a base\n",
        "df = pd.read_csv('../bases/clientes.csv')\n",
        "print(\"[INFO] Dimensões:\", df.shape)\n",
        "print(\"[INFO] Colunas:\", list(df.columns))\n",
        "print(df.info())\n",
        "print(\"#\"*120)\n",
        "print(\"\")\n",
        "print(df.describe())"
      ]
    },
    {
      "cell_type": "code",
      "execution_count": 46,
      "metadata": {},
      "outputs": [
        {
          "data": {
            "application/vnd.microsoft.datawrangler.viewer.v0+json": {
              "columns": [
                {
                  "name": "index",
                  "rawType": "int64",
                  "type": "integer"
                },
                {
                  "name": "Idade",
                  "rawType": "int64",
                  "type": "integer"
                },
                {
                  "name": "Gênero",
                  "rawType": "object",
                  "type": "string"
                },
                {
                  "name": "EstadoCivil",
                  "rawType": "object",
                  "type": "string"
                },
                {
                  "name": "Escolaridade",
                  "rawType": "object",
                  "type": "string"
                },
                {
                  "name": "RendaMensal",
                  "rawType": "object",
                  "type": "string"
                },
                {
                  "name": "TempoNoSite(min)",
                  "rawType": "float64",
                  "type": "float"
                },
                {
                  "name": "VisitasMensais",
                  "rawType": "int64",
                  "type": "integer"
                },
                {
                  "name": "ValorMedioCompra",
                  "rawType": "int64",
                  "type": "integer"
                },
                {
                  "name": "CategoriaFavorita",
                  "rawType": "object",
                  "type": "string"
                },
                {
                  "name": "Dispositivo",
                  "rawType": "object",
                  "type": "string"
                }
              ],
              "ref": "ff48210f-0758-4010-99df-7452ec611672",
              "rows": [
                [
                  "0",
                  "56",
                  "Feminino",
                  "Casado",
                  "Pós-graduação",
                  "5 a 10 mil",
                  "8.68",
                  "5",
                  "100",
                  "Alimentos",
                  "Mobile"
                ],
                [
                  "1",
                  "69",
                  "Feminino",
                  "Divorciado",
                  "Médio",
                  "2 a 5 mil",
                  "15.51",
                  "4",
                  "200",
                  "Eletrônicos",
                  "Mobile"
                ],
                [
                  "2",
                  "46",
                  "Feminino",
                  "Solteiro",
                  "Médio",
                  "Até 2 mil",
                  "8.61",
                  "5",
                  "1000",
                  "Eletrônicos",
                  "Tablet"
                ],
                [
                  "3",
                  "32",
                  "Feminino",
                  "Solteiro",
                  "Superior",
                  "Acima de 20 mil",
                  "0.01",
                  "8",
                  "200",
                  "Casa",
                  "Desktop"
                ],
                [
                  "4",
                  "60",
                  "Masculino",
                  "Casado",
                  "Superior",
                  "5 a 10 mil",
                  "5.06",
                  "4",
                  "300",
                  "Alimentos",
                  "Mobile"
                ],
                [
                  "5",
                  "25",
                  "Masculino",
                  "Casado",
                  "Médio",
                  "2 a 5 mil",
                  "0.26",
                  "2",
                  "100",
                  "Alimentos",
                  "Tablet"
                ],
                [
                  "6",
                  "38",
                  "Masculino",
                  "Solteiro",
                  "Superior",
                  "Acima de 20 mil",
                  "1.49",
                  "1",
                  "300",
                  "Moda",
                  "Tablet"
                ],
                [
                  "7",
                  "56",
                  "Feminino",
                  "Casado",
                  "Superior",
                  "5 a 10 mil",
                  "0.31",
                  "8",
                  "200",
                  "Casa",
                  "Desktop"
                ],
                [
                  "8",
                  "36",
                  "Masculino",
                  "Solteiro",
                  "Médio",
                  "2 a 5 mil",
                  "4.63",
                  "8",
                  "500",
                  "Eletrônicos",
                  "Desktop"
                ],
                [
                  "9",
                  "40",
                  "Masculino",
                  "Solteiro",
                  "Pós-graduação",
                  "5 a 10 mil",
                  "5.8",
                  "4",
                  "100",
                  "Eletrônicos",
                  "Mobile"
                ],
                [
                  "10",
                  "28",
                  "Masculino",
                  "Casado",
                  "Pós-graduação",
                  "10 a 20 mil",
                  "0.61",
                  "1",
                  "200",
                  "Alimentos",
                  "Desktop"
                ],
                [
                  "11",
                  "28",
                  "Masculino",
                  "Casado",
                  "Superior",
                  "5 a 10 mil",
                  "2.42",
                  "9",
                  "200",
                  "Moda",
                  "Tablet"
                ],
                [
                  "12",
                  "41",
                  "Feminino",
                  "Divorciado",
                  "Médio",
                  "Até 2 mil",
                  "3.05",
                  "4",
                  "100",
                  "Moda",
                  "Tablet"
                ],
                [
                  "13",
                  "53",
                  "Feminino",
                  "Solteiro",
                  "Superior",
                  "2 a 5 mil",
                  "2.3",
                  "2",
                  "50",
                  "Casa",
                  "Desktop"
                ],
                [
                  "14",
                  "57",
                  "Masculino",
                  "Casado",
                  "Fundamental",
                  "10 a 20 mil",
                  "0.64",
                  "4",
                  "50",
                  "Casa",
                  "Desktop"
                ],
                [
                  "15",
                  "41",
                  "Masculino",
                  "Casado",
                  "Fundamental",
                  "Até 2 mil",
                  "2.71",
                  "3",
                  "50",
                  "Esportes",
                  "Desktop"
                ],
                [
                  "16",
                  "20",
                  "Feminino",
                  "Solteiro",
                  "Médio",
                  "2 a 5 mil",
                  "6.96",
                  "8",
                  "500",
                  "Moda",
                  "Tablet"
                ],
                [
                  "17",
                  "39",
                  "Masculino",
                  "Casado",
                  "Médio",
                  "2 a 5 mil",
                  "0.37",
                  "9",
                  "100",
                  "Eletrônicos",
                  "Desktop"
                ],
                [
                  "18",
                  "19",
                  "Masculino",
                  "Solteiro",
                  "Pós-graduação",
                  "2 a 5 mil",
                  "0.42",
                  "4",
                  "100",
                  "Moda",
                  "Mobile"
                ],
                [
                  "19",
                  "41",
                  "Masculino",
                  "Viúvo",
                  "Superior",
                  "5 a 10 mil",
                  "2.19",
                  "4",
                  "300",
                  "Livros",
                  "Mobile"
                ],
                [
                  "20",
                  "61",
                  "Masculino",
                  "Solteiro",
                  "Superior",
                  "10 a 20 mil",
                  "14.21",
                  "5",
                  "100",
                  "Alimentos",
                  "Mobile"
                ],
                [
                  "21",
                  "47",
                  "Feminino",
                  "Casado",
                  "Médio",
                  "Até 2 mil",
                  "5.52",
                  "11",
                  "200",
                  "Casa",
                  "Desktop"
                ],
                [
                  "22",
                  "55",
                  "Feminino",
                  "Solteiro",
                  "Médio",
                  "Até 2 mil",
                  "5.68",
                  "8",
                  "50",
                  "Eletrônicos",
                  "Desktop"
                ],
                [
                  "23",
                  "19",
                  "Masculino",
                  "Viúvo",
                  "Médio",
                  "Até 2 mil",
                  "2.25",
                  "6",
                  "1000",
                  "Alimentos",
                  "Tablet"
                ],
                [
                  "24",
                  "38",
                  "Masculino",
                  "Casado",
                  "Pós-graduação",
                  "10 a 20 mil",
                  "4.5",
                  "2",
                  "500",
                  "Eletrônicos",
                  "Tablet"
                ],
                [
                  "25",
                  "50",
                  "Feminino",
                  "Casado",
                  "Fundamental",
                  "5 a 10 mil",
                  "0.05",
                  "8",
                  "500",
                  "Alimentos",
                  "Mobile"
                ],
                [
                  "26",
                  "29",
                  "Feminino",
                  "Solteiro",
                  "Pós-graduação",
                  "2 a 5 mil",
                  "5.05",
                  "7",
                  "100",
                  "Livros",
                  "Desktop"
                ],
                [
                  "27",
                  "39",
                  "Feminino",
                  "Casado",
                  "Superior",
                  "10 a 20 mil",
                  "12.23",
                  "6",
                  "300",
                  "Livros",
                  "Desktop"
                ],
                [
                  "28",
                  "61",
                  "Feminino",
                  "Solteiro",
                  "Médio",
                  "10 a 20 mil",
                  "4.74",
                  "5",
                  "50",
                  "Alimentos",
                  "Mobile"
                ],
                [
                  "29",
                  "42",
                  "Masculino",
                  "Divorciado",
                  "Superior",
                  "10 a 20 mil",
                  "10.35",
                  "3",
                  "50",
                  "Alimentos",
                  "Desktop"
                ],
                [
                  "30",
                  "66",
                  "Masculino",
                  "Solteiro",
                  "Médio",
                  "10 a 20 mil",
                  "6.44",
                  "5",
                  "50",
                  "Livros",
                  "Tablet"
                ],
                [
                  "31",
                  "44",
                  "Feminino",
                  "Solteiro",
                  "Pós-graduação",
                  "2 a 5 mil",
                  "0.64",
                  "3",
                  "200",
                  "Casa",
                  "Mobile"
                ],
                [
                  "32",
                  "59",
                  "Masculino",
                  "Solteiro",
                  "Pós-graduação",
                  "5 a 10 mil",
                  "11.64",
                  "3",
                  "200",
                  "Eletrônicos",
                  "Desktop"
                ],
                [
                  "33",
                  "45",
                  "Feminino",
                  "Casado",
                  "Médio",
                  "2 a 5 mil",
                  "0.34",
                  "7",
                  "200",
                  "Alimentos",
                  "Tablet"
                ],
                [
                  "34",
                  "33",
                  "Feminino",
                  "Casado",
                  "Médio",
                  "10 a 20 mil",
                  "3.82",
                  "4",
                  "50",
                  "Moda",
                  "Tablet"
                ],
                [
                  "35",
                  "32",
                  "Feminino",
                  "Solteiro",
                  "Superior",
                  "5 a 10 mil",
                  "0.77",
                  "4",
                  "100",
                  "Alimentos",
                  "Desktop"
                ],
                [
                  "36",
                  "64",
                  "Masculino",
                  "Casado",
                  "Pós-graduação",
                  "5 a 10 mil",
                  "0.06",
                  "6",
                  "300",
                  "Alimentos",
                  "Mobile"
                ],
                [
                  "37",
                  "68",
                  "Feminino",
                  "Casado",
                  "Médio",
                  "5 a 10 mil",
                  "2.74",
                  "6",
                  "100",
                  "Alimentos",
                  "Desktop"
                ],
                [
                  "38",
                  "61",
                  "Masculino",
                  "Casado",
                  "Superior",
                  "Até 2 mil",
                  "1.75",
                  "3",
                  "300",
                  "Moda",
                  "Desktop"
                ],
                [
                  "39",
                  "69",
                  "Feminino",
                  "Casado",
                  "Superior",
                  "2 a 5 mil",
                  "3.33",
                  "4",
                  "100",
                  "Eletrônicos",
                  "Desktop"
                ],
                [
                  "40",
                  "20",
                  "Feminino",
                  "Casado",
                  "Superior",
                  "Acima de 20 mil",
                  "4.3",
                  "6",
                  "300",
                  "Alimentos",
                  "Mobile"
                ],
                [
                  "41",
                  "54",
                  "Masculino",
                  "Casado",
                  "Fundamental",
                  "10 a 20 mil",
                  "0.22",
                  "6",
                  "200",
                  "Esportes",
                  "Tablet"
                ],
                [
                  "42",
                  "68",
                  "Outro",
                  "Solteiro",
                  "Superior",
                  "Até 2 mil",
                  "0.66",
                  "6",
                  "100",
                  "Casa",
                  "Mobile"
                ],
                [
                  "43",
                  "24",
                  "Feminino",
                  "Solteiro",
                  "Pós-graduação",
                  "Até 2 mil",
                  "4.09",
                  "6",
                  "100",
                  "Moda",
                  "Desktop"
                ],
                [
                  "44",
                  "38",
                  "Masculino",
                  "Divorciado",
                  "Médio",
                  "Até 2 mil",
                  "2.1",
                  "3",
                  "200",
                  "Livros",
                  "Mobile"
                ],
                [
                  "45",
                  "26",
                  "Masculino",
                  "Divorciado",
                  "Médio",
                  "5 a 10 mil",
                  "6.53",
                  "5",
                  "300",
                  "Livros",
                  "Desktop"
                ],
                [
                  "46",
                  "56",
                  "Masculino",
                  "Solteiro",
                  "Pós-graduação",
                  "10 a 20 mil",
                  "5.28",
                  "2",
                  "100",
                  "Moda",
                  "Mobile"
                ],
                [
                  "47",
                  "35",
                  "Masculino",
                  "Solteiro",
                  "Médio",
                  "Até 2 mil",
                  "9.34",
                  "5",
                  "100",
                  "Eletrônicos",
                  "Mobile"
                ],
                [
                  "48",
                  "21",
                  "Masculino",
                  "Casado",
                  "Pós-graduação",
                  "2 a 5 mil",
                  "5.9",
                  "3",
                  "500",
                  "Casa",
                  "Desktop"
                ],
                [
                  "49",
                  "42",
                  "Feminino",
                  "Casado",
                  "Médio",
                  "10 a 20 mil",
                  "2.81",
                  "3",
                  "200",
                  "Esportes",
                  "Desktop"
                ]
              ],
              "shape": {
                "columns": 10,
                "rows": 500
              }
            },
            "text/html": [
              "<div>\n",
              "<style scoped>\n",
              "    .dataframe tbody tr th:only-of-type {\n",
              "        vertical-align: middle;\n",
              "    }\n",
              "\n",
              "    .dataframe tbody tr th {\n",
              "        vertical-align: top;\n",
              "    }\n",
              "\n",
              "    .dataframe thead th {\n",
              "        text-align: right;\n",
              "    }\n",
              "</style>\n",
              "<table border=\"1\" class=\"dataframe\">\n",
              "  <thead>\n",
              "    <tr style=\"text-align: right;\">\n",
              "      <th></th>\n",
              "      <th>Idade</th>\n",
              "      <th>Gênero</th>\n",
              "      <th>EstadoCivil</th>\n",
              "      <th>Escolaridade</th>\n",
              "      <th>RendaMensal</th>\n",
              "      <th>TempoNoSite(min)</th>\n",
              "      <th>VisitasMensais</th>\n",
              "      <th>ValorMedioCompra</th>\n",
              "      <th>CategoriaFavorita</th>\n",
              "      <th>Dispositivo</th>\n",
              "    </tr>\n",
              "  </thead>\n",
              "  <tbody>\n",
              "    <tr>\n",
              "      <th>0</th>\n",
              "      <td>56</td>\n",
              "      <td>Feminino</td>\n",
              "      <td>Casado</td>\n",
              "      <td>Pós-graduação</td>\n",
              "      <td>5 a 10 mil</td>\n",
              "      <td>8.68</td>\n",
              "      <td>5</td>\n",
              "      <td>100</td>\n",
              "      <td>Alimentos</td>\n",
              "      <td>Mobile</td>\n",
              "    </tr>\n",
              "    <tr>\n",
              "      <th>1</th>\n",
              "      <td>69</td>\n",
              "      <td>Feminino</td>\n",
              "      <td>Divorciado</td>\n",
              "      <td>Médio</td>\n",
              "      <td>2 a 5 mil</td>\n",
              "      <td>15.51</td>\n",
              "      <td>4</td>\n",
              "      <td>200</td>\n",
              "      <td>Eletrônicos</td>\n",
              "      <td>Mobile</td>\n",
              "    </tr>\n",
              "    <tr>\n",
              "      <th>2</th>\n",
              "      <td>46</td>\n",
              "      <td>Feminino</td>\n",
              "      <td>Solteiro</td>\n",
              "      <td>Médio</td>\n",
              "      <td>Até 2 mil</td>\n",
              "      <td>8.61</td>\n",
              "      <td>5</td>\n",
              "      <td>1000</td>\n",
              "      <td>Eletrônicos</td>\n",
              "      <td>Tablet</td>\n",
              "    </tr>\n",
              "    <tr>\n",
              "      <th>3</th>\n",
              "      <td>32</td>\n",
              "      <td>Feminino</td>\n",
              "      <td>Solteiro</td>\n",
              "      <td>Superior</td>\n",
              "      <td>Acima de 20 mil</td>\n",
              "      <td>0.01</td>\n",
              "      <td>8</td>\n",
              "      <td>200</td>\n",
              "      <td>Casa</td>\n",
              "      <td>Desktop</td>\n",
              "    </tr>\n",
              "    <tr>\n",
              "      <th>4</th>\n",
              "      <td>60</td>\n",
              "      <td>Masculino</td>\n",
              "      <td>Casado</td>\n",
              "      <td>Superior</td>\n",
              "      <td>5 a 10 mil</td>\n",
              "      <td>5.06</td>\n",
              "      <td>4</td>\n",
              "      <td>300</td>\n",
              "      <td>Alimentos</td>\n",
              "      <td>Mobile</td>\n",
              "    </tr>\n",
              "    <tr>\n",
              "      <th>...</th>\n",
              "      <td>...</td>\n",
              "      <td>...</td>\n",
              "      <td>...</td>\n",
              "      <td>...</td>\n",
              "      <td>...</td>\n",
              "      <td>...</td>\n",
              "      <td>...</td>\n",
              "      <td>...</td>\n",
              "      <td>...</td>\n",
              "      <td>...</td>\n",
              "    </tr>\n",
              "    <tr>\n",
              "      <th>495</th>\n",
              "      <td>65</td>\n",
              "      <td>Masculino</td>\n",
              "      <td>Solteiro</td>\n",
              "      <td>Médio</td>\n",
              "      <td>2 a 5 mil</td>\n",
              "      <td>2.21</td>\n",
              "      <td>4</td>\n",
              "      <td>100</td>\n",
              "      <td>Livros</td>\n",
              "      <td>Mobile</td>\n",
              "    </tr>\n",
              "    <tr>\n",
              "      <th>496</th>\n",
              "      <td>42</td>\n",
              "      <td>Feminino</td>\n",
              "      <td>Solteiro</td>\n",
              "      <td>Médio</td>\n",
              "      <td>10 a 20 mil</td>\n",
              "      <td>13.03</td>\n",
              "      <td>7</td>\n",
              "      <td>50</td>\n",
              "      <td>Moda</td>\n",
              "      <td>Desktop</td>\n",
              "    </tr>\n",
              "    <tr>\n",
              "      <th>497</th>\n",
              "      <td>57</td>\n",
              "      <td>Masculino</td>\n",
              "      <td>Solteiro</td>\n",
              "      <td>Fundamental</td>\n",
              "      <td>5 a 10 mil</td>\n",
              "      <td>1.30</td>\n",
              "      <td>1</td>\n",
              "      <td>50</td>\n",
              "      <td>Esportes</td>\n",
              "      <td>Desktop</td>\n",
              "    </tr>\n",
              "    <tr>\n",
              "      <th>498</th>\n",
              "      <td>62</td>\n",
              "      <td>Masculino</td>\n",
              "      <td>Divorciado</td>\n",
              "      <td>Superior</td>\n",
              "      <td>5 a 10 mil</td>\n",
              "      <td>5.03</td>\n",
              "      <td>7</td>\n",
              "      <td>1000</td>\n",
              "      <td>Eletrônicos</td>\n",
              "      <td>Desktop</td>\n",
              "    </tr>\n",
              "    <tr>\n",
              "      <th>499</th>\n",
              "      <td>18</td>\n",
              "      <td>Masculino</td>\n",
              "      <td>Solteiro</td>\n",
              "      <td>Superior</td>\n",
              "      <td>2 a 5 mil</td>\n",
              "      <td>1.26</td>\n",
              "      <td>3</td>\n",
              "      <td>100</td>\n",
              "      <td>Moda</td>\n",
              "      <td>Mobile</td>\n",
              "    </tr>\n",
              "  </tbody>\n",
              "</table>\n",
              "<p>500 rows × 10 columns</p>\n",
              "</div>"
            ],
            "text/plain": [
              "     Idade     Gênero EstadoCivil   Escolaridade      RendaMensal  \\\n",
              "0       56   Feminino      Casado  Pós-graduação       5 a 10 mil   \n",
              "1       69   Feminino  Divorciado          Médio        2 a 5 mil   \n",
              "2       46   Feminino    Solteiro          Médio        Até 2 mil   \n",
              "3       32   Feminino    Solteiro       Superior  Acima de 20 mil   \n",
              "4       60  Masculino      Casado       Superior       5 a 10 mil   \n",
              "..     ...        ...         ...            ...              ...   \n",
              "495     65  Masculino    Solteiro          Médio        2 a 5 mil   \n",
              "496     42   Feminino    Solteiro          Médio      10 a 20 mil   \n",
              "497     57  Masculino    Solteiro    Fundamental       5 a 10 mil   \n",
              "498     62  Masculino  Divorciado       Superior       5 a 10 mil   \n",
              "499     18  Masculino    Solteiro       Superior        2 a 5 mil   \n",
              "\n",
              "     TempoNoSite(min)  VisitasMensais  ValorMedioCompra CategoriaFavorita  \\\n",
              "0                8.68               5               100         Alimentos   \n",
              "1               15.51               4               200       Eletrônicos   \n",
              "2                8.61               5              1000       Eletrônicos   \n",
              "3                0.01               8               200              Casa   \n",
              "4                5.06               4               300         Alimentos   \n",
              "..                ...             ...               ...               ...   \n",
              "495              2.21               4               100            Livros   \n",
              "496             13.03               7                50              Moda   \n",
              "497              1.30               1                50          Esportes   \n",
              "498              5.03               7              1000       Eletrônicos   \n",
              "499              1.26               3               100              Moda   \n",
              "\n",
              "    Dispositivo  \n",
              "0        Mobile  \n",
              "1        Mobile  \n",
              "2        Tablet  \n",
              "3       Desktop  \n",
              "4        Mobile  \n",
              "..          ...  \n",
              "495      Mobile  \n",
              "496     Desktop  \n",
              "497     Desktop  \n",
              "498     Desktop  \n",
              "499      Mobile  \n",
              "\n",
              "[500 rows x 10 columns]"
            ]
          },
          "execution_count": 46,
          "metadata": {},
          "output_type": "execute_result"
        }
      ],
      "source": [
        "df"
      ]
    },
    {
      "cell_type": "markdown",
      "metadata": {
        "id": "92O76HIqfMk1"
      },
      "source": [
        "\n",
        "## Padrão básico da API do scikit-learn\n",
        "\n",
        "- fit(X, y=None): ajusta o estimador aos dados (aprende parâmetros).\n",
        "- transform(X): transforma X com base no que foi aprendido no fit.\n",
        "- fit_transform(X): faz fit + transform de uma vez (muito comum em pré-processamento).\n",
        "- predict(X): gera previsões/labels após o modelo estar ajustado.\n",
        "- fit_predict(X): ajusta e já retorna os rótulos (muito usado em clustering).\n",
        "\n",
        "#### Exemplo ilustrativo (NÃO executado aqui):\n",
        "```python\n",
        "scaler = StandardScaler()               # o algoritmo\n",
        "X_scaled = scaler.fit_transform(X)      # ajusta e transforma\n",
        "pca = PCA(n_components=2)               # o algoritmo\n",
        "X_pca = pca.fit_transform(X_scaled)     # ajusta e projeta\n",
        "km = KMeans(n_clusters=4, n_init=10, random_state=42) # o algoritmo\n",
        "labels = km.fit_predict(X_pca)          # ajusta e retorna rótulos\n",
        "```\n",
        "\n",
        "## Pré-processamento\n",
        "\n",
        "Para fazermos a segmentação, é importante fazermos o pré-processamento dos dados. Um dos principais pré-processamentos é a padronização, que nada mais é que colocar todos os dados em uma mesma **escala**. Contudo, só deve ser feito em variáveis **numéricas**. Vamos separar os dois casos (numéricos e categóricos) com o método `select_dtypes()`."
      ]
    },
    {
      "cell_type": "code",
      "execution_count": 9,
      "metadata": {
        "colab": {
          "base_uri": "https://localhost:8080/"
        },
        "id": "NbxmDMQ6gZ0t",
        "outputId": "c483c00a-d14f-4e2c-adc3-1c863ffd5045"
      },
      "outputs": [
        {
          "name": "stdout",
          "output_type": "stream",
          "text": [
            "[INFO] Numéricas: ['Idade', 'TempoNoSite(min)', 'VisitasMensais', 'ValorMedioCompra']\n",
            "[INFO] Categóricas: ['Gênero', 'EstadoCivil', 'Escolaridade', 'RendaMensal', 'CategoriaFavorita', 'Dispositivo']\n"
          ]
        }
      ],
      "source": [
        "numericas = df.select_dtypes(include='number').columns.tolist()    # Aqui, incluimos apenas os números\n",
        "categoricas = df.select_dtypes(exclude='number').columns.tolist()  # Aqui, excluimos os números, mantendo apenas as categóricas.\n",
        "\n",
        "print(f'[INFO] Numéricas: {numericas}')\n",
        "print(f'[INFO] Categóricas: {categoricas}')"
      ]
    },
    {
      "cell_type": "markdown",
      "metadata": {
        "id": "sYUWbYR6g9sn"
      },
      "source": [
        "### Padronização"
      ]
    },
    {
      "cell_type": "code",
      "execution_count": 12,
      "metadata": {
        "colab": {
          "base_uri": "https://localhost:8080/"
        },
        "id": "AkZsWp3gfE9V",
        "outputId": "e91d3321-969b-469d-fb83-56fdc325ae71"
      },
      "outputs": [
        {
          "name": "stdout",
          "output_type": "stream",
          "text": [
            "Antes:\n",
            "   Idade  TempoNoSite(min)  VisitasMensais  ValorMedioCompra\n",
            "0     56              8.68               5               100\n",
            "1     69             15.51               4               200\n",
            "2     46              8.61               5              1000\n",
            "3     32              0.01               8               200\n",
            "4     60              5.06               4               300\n",
            "########################################################################################################################\n",
            "Depois:\n",
            "      Idade  TempoNoSite(min)  VisitasMensais  ValorMedioCompra\n",
            "0  0.784233          0.741806       -0.003626         -0.578486\n",
            "1  1.649686          2.112274       -0.456865         -0.122626\n",
            "2  0.118500          0.727760       -0.003626          3.524249\n",
            "3 -0.813526         -0.997865        1.356092         -0.122626\n",
            "4  1.050527          0.015438       -0.456865          0.333233\n"
          ]
        }
      ],
      "source": [
        "scaler = StandardScaler()\n",
        "df_scaled = scaler.fit_transform(df[numericas])  # Atenção: aqui fizemos só com as numéricas e aplicamos o fit_transform!\n",
        "\n",
        "print(\"Antes:\")\n",
        "print(df[numericas].head())\n",
        "print(\"#\"*120)\n",
        "print(\"Depois:\")\n",
        "print(pd.DataFrame(df_scaled[:5], columns=numericas))"
      ]
    },
    {
      "cell_type": "markdown",
      "metadata": {
        "id": "w-w8tmDThATS"
      },
      "source": [
        "### OneHotEncoder\n",
        "\n",
        "Quando temos variáveis categórias, não existe padronização possível. O processamento que fazemos, em geral, é transformar todas as variáveis em *OnehotEncoding*, ou seja, se temos uma coluna de Gênero com as respostas Masculino e Feminino, o OneHotEncoding transforma em duas colunas, Masculino e Feminino, onde os valores são 0 ou 1. Isso facilita o trabalho dos algoritmos e torna nossos modelos melhores."
      ]
    },
    {
      "cell_type": "code",
      "execution_count": 13,
      "metadata": {
        "colab": {
          "base_uri": "https://localhost:8080/",
          "height": 512
        },
        "id": "Zf10cvqJg1wj",
        "outputId": "61d91312-111a-4e77-f246-050526a3b135"
      },
      "outputs": [
        {
          "name": "stdout",
          "output_type": "stream",
          "text": [
            "Antes:\n",
            "      Gênero EstadoCivil   Escolaridade      RendaMensal CategoriaFavorita  \\\n",
            "0   Feminino      Casado  Pós-graduação       5 a 10 mil         Alimentos   \n",
            "1   Feminino  Divorciado          Médio        2 a 5 mil       Eletrônicos   \n",
            "2   Feminino    Solteiro          Médio        Até 2 mil       Eletrônicos   \n",
            "3   Feminino    Solteiro       Superior  Acima de 20 mil              Casa   \n",
            "4  Masculino      Casado       Superior       5 a 10 mil         Alimentos   \n",
            "\n",
            "  Dispositivo  \n",
            "0      Mobile  \n",
            "1      Mobile  \n",
            "2      Tablet  \n",
            "3     Desktop  \n",
            "4      Mobile  \n",
            "Depois:\n"
          ]
        },
        {
          "data": {
            "application/vnd.microsoft.datawrangler.viewer.v0+json": {
              "columns": [
                {
                  "name": "index",
                  "rawType": "int64",
                  "type": "integer"
                },
                {
                  "name": "Gênero_Feminino",
                  "rawType": "float64",
                  "type": "float"
                },
                {
                  "name": "Gênero_Masculino",
                  "rawType": "float64",
                  "type": "float"
                },
                {
                  "name": "Gênero_Outro",
                  "rawType": "float64",
                  "type": "float"
                },
                {
                  "name": "EstadoCivil_Casado",
                  "rawType": "float64",
                  "type": "float"
                },
                {
                  "name": "EstadoCivil_Divorciado",
                  "rawType": "float64",
                  "type": "float"
                },
                {
                  "name": "EstadoCivil_Solteiro",
                  "rawType": "float64",
                  "type": "float"
                },
                {
                  "name": "EstadoCivil_Viúvo",
                  "rawType": "float64",
                  "type": "float"
                },
                {
                  "name": "Escolaridade_Fundamental",
                  "rawType": "float64",
                  "type": "float"
                },
                {
                  "name": "Escolaridade_Médio",
                  "rawType": "float64",
                  "type": "float"
                },
                {
                  "name": "Escolaridade_Pós-graduação",
                  "rawType": "float64",
                  "type": "float"
                },
                {
                  "name": "Escolaridade_Superior",
                  "rawType": "float64",
                  "type": "float"
                },
                {
                  "name": "RendaMensal_10 a 20 mil",
                  "rawType": "float64",
                  "type": "float"
                },
                {
                  "name": "RendaMensal_2 a 5 mil",
                  "rawType": "float64",
                  "type": "float"
                },
                {
                  "name": "RendaMensal_5 a 10 mil",
                  "rawType": "float64",
                  "type": "float"
                },
                {
                  "name": "RendaMensal_Acima de 20 mil",
                  "rawType": "float64",
                  "type": "float"
                },
                {
                  "name": "RendaMensal_Até 2 mil",
                  "rawType": "float64",
                  "type": "float"
                },
                {
                  "name": "CategoriaFavorita_Alimentos",
                  "rawType": "float64",
                  "type": "float"
                },
                {
                  "name": "CategoriaFavorita_Casa",
                  "rawType": "float64",
                  "type": "float"
                },
                {
                  "name": "CategoriaFavorita_Eletrônicos",
                  "rawType": "float64",
                  "type": "float"
                },
                {
                  "name": "CategoriaFavorita_Esportes",
                  "rawType": "float64",
                  "type": "float"
                },
                {
                  "name": "CategoriaFavorita_Livros",
                  "rawType": "float64",
                  "type": "float"
                },
                {
                  "name": "CategoriaFavorita_Moda",
                  "rawType": "float64",
                  "type": "float"
                },
                {
                  "name": "Dispositivo_Desktop",
                  "rawType": "float64",
                  "type": "float"
                },
                {
                  "name": "Dispositivo_Mobile",
                  "rawType": "float64",
                  "type": "float"
                },
                {
                  "name": "Dispositivo_Tablet",
                  "rawType": "float64",
                  "type": "float"
                }
              ],
              "ref": "7d7b7303-3da4-4e5f-97cd-dacb481a6fd5",
              "rows": [
                [
                  "0",
                  "1.0",
                  "0.0",
                  "0.0",
                  "1.0",
                  "0.0",
                  "0.0",
                  "0.0",
                  "0.0",
                  "0.0",
                  "1.0",
                  "0.0",
                  "0.0",
                  "0.0",
                  "1.0",
                  "0.0",
                  "0.0",
                  "1.0",
                  "0.0",
                  "0.0",
                  "0.0",
                  "0.0",
                  "0.0",
                  "0.0",
                  "1.0",
                  "0.0"
                ],
                [
                  "1",
                  "1.0",
                  "0.0",
                  "0.0",
                  "0.0",
                  "1.0",
                  "0.0",
                  "0.0",
                  "0.0",
                  "1.0",
                  "0.0",
                  "0.0",
                  "0.0",
                  "1.0",
                  "0.0",
                  "0.0",
                  "0.0",
                  "0.0",
                  "0.0",
                  "1.0",
                  "0.0",
                  "0.0",
                  "0.0",
                  "0.0",
                  "1.0",
                  "0.0"
                ],
                [
                  "2",
                  "1.0",
                  "0.0",
                  "0.0",
                  "0.0",
                  "0.0",
                  "1.0",
                  "0.0",
                  "0.0",
                  "1.0",
                  "0.0",
                  "0.0",
                  "0.0",
                  "0.0",
                  "0.0",
                  "0.0",
                  "1.0",
                  "0.0",
                  "0.0",
                  "1.0",
                  "0.0",
                  "0.0",
                  "0.0",
                  "0.0",
                  "0.0",
                  "1.0"
                ],
                [
                  "3",
                  "1.0",
                  "0.0",
                  "0.0",
                  "0.0",
                  "0.0",
                  "1.0",
                  "0.0",
                  "0.0",
                  "0.0",
                  "0.0",
                  "1.0",
                  "0.0",
                  "0.0",
                  "0.0",
                  "1.0",
                  "0.0",
                  "0.0",
                  "1.0",
                  "0.0",
                  "0.0",
                  "0.0",
                  "0.0",
                  "1.0",
                  "0.0",
                  "0.0"
                ],
                [
                  "4",
                  "0.0",
                  "1.0",
                  "0.0",
                  "1.0",
                  "0.0",
                  "0.0",
                  "0.0",
                  "0.0",
                  "0.0",
                  "0.0",
                  "1.0",
                  "0.0",
                  "0.0",
                  "1.0",
                  "0.0",
                  "0.0",
                  "1.0",
                  "0.0",
                  "0.0",
                  "0.0",
                  "0.0",
                  "0.0",
                  "0.0",
                  "1.0",
                  "0.0"
                ]
              ],
              "shape": {
                "columns": 25,
                "rows": 5
              }
            },
            "text/html": [
              "<div>\n",
              "<style scoped>\n",
              "    .dataframe tbody tr th:only-of-type {\n",
              "        vertical-align: middle;\n",
              "    }\n",
              "\n",
              "    .dataframe tbody tr th {\n",
              "        vertical-align: top;\n",
              "    }\n",
              "\n",
              "    .dataframe thead th {\n",
              "        text-align: right;\n",
              "    }\n",
              "</style>\n",
              "<table border=\"1\" class=\"dataframe\">\n",
              "  <thead>\n",
              "    <tr style=\"text-align: right;\">\n",
              "      <th></th>\n",
              "      <th>Gênero_Feminino</th>\n",
              "      <th>Gênero_Masculino</th>\n",
              "      <th>Gênero_Outro</th>\n",
              "      <th>EstadoCivil_Casado</th>\n",
              "      <th>EstadoCivil_Divorciado</th>\n",
              "      <th>EstadoCivil_Solteiro</th>\n",
              "      <th>EstadoCivil_Viúvo</th>\n",
              "      <th>Escolaridade_Fundamental</th>\n",
              "      <th>Escolaridade_Médio</th>\n",
              "      <th>Escolaridade_Pós-graduação</th>\n",
              "      <th>...</th>\n",
              "      <th>RendaMensal_Até 2 mil</th>\n",
              "      <th>CategoriaFavorita_Alimentos</th>\n",
              "      <th>CategoriaFavorita_Casa</th>\n",
              "      <th>CategoriaFavorita_Eletrônicos</th>\n",
              "      <th>CategoriaFavorita_Esportes</th>\n",
              "      <th>CategoriaFavorita_Livros</th>\n",
              "      <th>CategoriaFavorita_Moda</th>\n",
              "      <th>Dispositivo_Desktop</th>\n",
              "      <th>Dispositivo_Mobile</th>\n",
              "      <th>Dispositivo_Tablet</th>\n",
              "    </tr>\n",
              "  </thead>\n",
              "  <tbody>\n",
              "    <tr>\n",
              "      <th>0</th>\n",
              "      <td>1.0</td>\n",
              "      <td>0.0</td>\n",
              "      <td>0.0</td>\n",
              "      <td>1.0</td>\n",
              "      <td>0.0</td>\n",
              "      <td>0.0</td>\n",
              "      <td>0.0</td>\n",
              "      <td>0.0</td>\n",
              "      <td>0.0</td>\n",
              "      <td>1.0</td>\n",
              "      <td>...</td>\n",
              "      <td>0.0</td>\n",
              "      <td>1.0</td>\n",
              "      <td>0.0</td>\n",
              "      <td>0.0</td>\n",
              "      <td>0.0</td>\n",
              "      <td>0.0</td>\n",
              "      <td>0.0</td>\n",
              "      <td>0.0</td>\n",
              "      <td>1.0</td>\n",
              "      <td>0.0</td>\n",
              "    </tr>\n",
              "    <tr>\n",
              "      <th>1</th>\n",
              "      <td>1.0</td>\n",
              "      <td>0.0</td>\n",
              "      <td>0.0</td>\n",
              "      <td>0.0</td>\n",
              "      <td>1.0</td>\n",
              "      <td>0.0</td>\n",
              "      <td>0.0</td>\n",
              "      <td>0.0</td>\n",
              "      <td>1.0</td>\n",
              "      <td>0.0</td>\n",
              "      <td>...</td>\n",
              "      <td>0.0</td>\n",
              "      <td>0.0</td>\n",
              "      <td>0.0</td>\n",
              "      <td>1.0</td>\n",
              "      <td>0.0</td>\n",
              "      <td>0.0</td>\n",
              "      <td>0.0</td>\n",
              "      <td>0.0</td>\n",
              "      <td>1.0</td>\n",
              "      <td>0.0</td>\n",
              "    </tr>\n",
              "    <tr>\n",
              "      <th>2</th>\n",
              "      <td>1.0</td>\n",
              "      <td>0.0</td>\n",
              "      <td>0.0</td>\n",
              "      <td>0.0</td>\n",
              "      <td>0.0</td>\n",
              "      <td>1.0</td>\n",
              "      <td>0.0</td>\n",
              "      <td>0.0</td>\n",
              "      <td>1.0</td>\n",
              "      <td>0.0</td>\n",
              "      <td>...</td>\n",
              "      <td>1.0</td>\n",
              "      <td>0.0</td>\n",
              "      <td>0.0</td>\n",
              "      <td>1.0</td>\n",
              "      <td>0.0</td>\n",
              "      <td>0.0</td>\n",
              "      <td>0.0</td>\n",
              "      <td>0.0</td>\n",
              "      <td>0.0</td>\n",
              "      <td>1.0</td>\n",
              "    </tr>\n",
              "    <tr>\n",
              "      <th>3</th>\n",
              "      <td>1.0</td>\n",
              "      <td>0.0</td>\n",
              "      <td>0.0</td>\n",
              "      <td>0.0</td>\n",
              "      <td>0.0</td>\n",
              "      <td>1.0</td>\n",
              "      <td>0.0</td>\n",
              "      <td>0.0</td>\n",
              "      <td>0.0</td>\n",
              "      <td>0.0</td>\n",
              "      <td>...</td>\n",
              "      <td>0.0</td>\n",
              "      <td>0.0</td>\n",
              "      <td>1.0</td>\n",
              "      <td>0.0</td>\n",
              "      <td>0.0</td>\n",
              "      <td>0.0</td>\n",
              "      <td>0.0</td>\n",
              "      <td>1.0</td>\n",
              "      <td>0.0</td>\n",
              "      <td>0.0</td>\n",
              "    </tr>\n",
              "    <tr>\n",
              "      <th>4</th>\n",
              "      <td>0.0</td>\n",
              "      <td>1.0</td>\n",
              "      <td>0.0</td>\n",
              "      <td>1.0</td>\n",
              "      <td>0.0</td>\n",
              "      <td>0.0</td>\n",
              "      <td>0.0</td>\n",
              "      <td>0.0</td>\n",
              "      <td>0.0</td>\n",
              "      <td>0.0</td>\n",
              "      <td>...</td>\n",
              "      <td>0.0</td>\n",
              "      <td>1.0</td>\n",
              "      <td>0.0</td>\n",
              "      <td>0.0</td>\n",
              "      <td>0.0</td>\n",
              "      <td>0.0</td>\n",
              "      <td>0.0</td>\n",
              "      <td>0.0</td>\n",
              "      <td>1.0</td>\n",
              "      <td>0.0</td>\n",
              "    </tr>\n",
              "  </tbody>\n",
              "</table>\n",
              "<p>5 rows × 25 columns</p>\n",
              "</div>"
            ],
            "text/plain": [
              "   Gênero_Feminino  Gênero_Masculino  Gênero_Outro  EstadoCivil_Casado  \\\n",
              "0              1.0               0.0           0.0                 1.0   \n",
              "1              1.0               0.0           0.0                 0.0   \n",
              "2              1.0               0.0           0.0                 0.0   \n",
              "3              1.0               0.0           0.0                 0.0   \n",
              "4              0.0               1.0           0.0                 1.0   \n",
              "\n",
              "   EstadoCivil_Divorciado  EstadoCivil_Solteiro  EstadoCivil_Viúvo  \\\n",
              "0                     0.0                   0.0                0.0   \n",
              "1                     1.0                   0.0                0.0   \n",
              "2                     0.0                   1.0                0.0   \n",
              "3                     0.0                   1.0                0.0   \n",
              "4                     0.0                   0.0                0.0   \n",
              "\n",
              "   Escolaridade_Fundamental  Escolaridade_Médio  Escolaridade_Pós-graduação  \\\n",
              "0                       0.0                 0.0                         1.0   \n",
              "1                       0.0                 1.0                         0.0   \n",
              "2                       0.0                 1.0                         0.0   \n",
              "3                       0.0                 0.0                         0.0   \n",
              "4                       0.0                 0.0                         0.0   \n",
              "\n",
              "   ...  RendaMensal_Até 2 mil  CategoriaFavorita_Alimentos  \\\n",
              "0  ...                    0.0                          1.0   \n",
              "1  ...                    0.0                          0.0   \n",
              "2  ...                    1.0                          0.0   \n",
              "3  ...                    0.0                          0.0   \n",
              "4  ...                    0.0                          1.0   \n",
              "\n",
              "   CategoriaFavorita_Casa  CategoriaFavorita_Eletrônicos  \\\n",
              "0                     0.0                            0.0   \n",
              "1                     0.0                            1.0   \n",
              "2                     0.0                            1.0   \n",
              "3                     1.0                            0.0   \n",
              "4                     0.0                            0.0   \n",
              "\n",
              "   CategoriaFavorita_Esportes  CategoriaFavorita_Livros  \\\n",
              "0                         0.0                       0.0   \n",
              "1                         0.0                       0.0   \n",
              "2                         0.0                       0.0   \n",
              "3                         0.0                       0.0   \n",
              "4                         0.0                       0.0   \n",
              "\n",
              "   CategoriaFavorita_Moda  Dispositivo_Desktop  Dispositivo_Mobile  \\\n",
              "0                     0.0                  0.0                 1.0   \n",
              "1                     0.0                  0.0                 1.0   \n",
              "2                     0.0                  0.0                 0.0   \n",
              "3                     0.0                  1.0                 0.0   \n",
              "4                     0.0                  0.0                 1.0   \n",
              "\n",
              "   Dispositivo_Tablet  \n",
              "0                 0.0  \n",
              "1                 0.0  \n",
              "2                 1.0  \n",
              "3                 0.0  \n",
              "4                 0.0  \n",
              "\n",
              "[5 rows x 25 columns]"
            ]
          },
          "execution_count": 13,
          "metadata": {},
          "output_type": "execute_result"
        }
      ],
      "source": [
        "ohe = OneHotEncoder(sparse_output=False, handle_unknown='ignore')\n",
        "df_ohe = ohe.fit_transform(df[categoricas])\n",
        "print(\"Antes:\")\n",
        "print(df[categoricas].head())\n",
        "print(\"Depois:\")\n",
        "pd.DataFrame(df_ohe, columns=ohe.get_feature_names_out()).head()"
      ]
    },
    {
      "cell_type": "markdown",
      "metadata": {
        "id": "l_ubOPcQiCDh"
      },
      "source": [
        "## Juntando tudo\n",
        "\n",
        "Agora precisamos concatenar as duas tabelas. Para isso, usamos a função `hstack`(horizontal stack, empilhando horizontal) do numpy. Percebam como as bases deixam de ser dataframes e viram vetores/matrizes."
      ]
    },
    {
      "cell_type": "code",
      "execution_count": 14,
      "metadata": {
        "colab": {
          "base_uri": "https://localhost:8080/"
        },
        "id": "cExmNp5thkwt",
        "outputId": "55bb6aed-7a81-4c74-c1ee-5a0c76cb24e8"
      },
      "outputs": [
        {
          "name": "stdout",
          "output_type": "stream",
          "text": [
            "[[ 0.78423339  0.74180622 -0.00362591 ...  0.          1.\n",
            "   0.        ]\n",
            " [ 1.6496862   2.11227381 -0.45686522 ...  0.          1.\n",
            "   0.        ]\n",
            " [ 0.11850046  0.72776043 -0.00362591 ...  0.          0.\n",
            "   1.        ]\n",
            " ...\n",
            " [ 0.85080668 -0.73902114 -1.81658316 ...  1.          0.\n",
            "   0.        ]\n",
            " [ 1.18367315  0.0094187   0.90285271 ...  1.          0.\n",
            "   0.        ]\n",
            " [-1.74555174 -0.7470473  -0.91010454 ...  0.          1.\n",
            "   0.        ]]\n"
          ]
        }
      ],
      "source": [
        "X_processed = np.hstack((df_scaled, df_ohe))\n",
        "print(X_processed)"
      ]
    },
    {
      "cell_type": "markdown",
      "metadata": {
        "id": "xUMa-1Rjilsx"
      },
      "source": [
        "## PCA - Redução de Dimensionalidade\n",
        "\n",
        "O PCA é uma técnica estatística utilizada para reduzir a dimensionalidade dos dados sem perder as informações mais relevantes. Quando lidamos com muitas variáveis ao mesmo tempo (como idade, renda, tempo de navegação, frequência de compra etc.), é comum que algumas delas estejam correlacionadas e contenham informações repetidas. O PCA busca **identificar novas variáveis** — chamadas de componentes principais — que são **combinações lineares** das variáveis originais. Esses componentes são construídos de forma a capturar a maior quantidade possível da variância dos dados. **Na prática, isso significa que podemos resumir um conjunto complexo de variáveis em poucas dimensões**, mantendo a essência das diferenças entre os indivíduos. Por exemplo, em vez de analisar 10 variáveis separadamente, é possível projetar os dados em 2 ou 3 componentes principais e ainda assim visualizar padrões, relações e agrupamentos de forma clara e simplificada."
      ]
    },
    {
      "cell_type": "code",
      "execution_count": 37,
      "metadata": {
        "colab": {
          "base_uri": "https://localhost:8080/"
        },
        "id": "Gz0YJteEiM_n",
        "outputId": "0a4afeb1-f5db-41ae-94ff-1c6f6ba5f740"
      },
      "outputs": [
        {
          "name": "stdout",
          "output_type": "stream",
          "text": [
            "[INFO] PCA -> número de componentes: 2\n",
            "[INFO] Variância explicada (% por componente): [14.074 12.79 ]\n",
            "[INFO] Variância explicada acumulada (%): 26.864\n"
          ]
        }
      ],
      "source": [
        "pca = PCA(n_components=2, random_state=93)      # Aqui devemos definir para quantas dimensões queremos reduzir\n",
        "X_pca = pca.fit_transform(X_processed)\n",
        "print(\"[INFO] PCA -> número de componentes:\", pca.n_components)\n",
        "print(\"[INFO] Variância explicada (% por componente):\", (pca.explained_variance_ratio_ * 100).round(3))\n",
        "print(\"[INFO] Variância explicada acumulada (%):\", round(pca.explained_variance_ratio_.sum() * 100, 3))"
      ]
    },
    {
      "cell_type": "code",
      "execution_count": 38,
      "metadata": {
        "colab": {
          "base_uri": "https://localhost:8080/"
        },
        "id": "v1QMEmArjNvo",
        "outputId": "5dee3055-79a2-47a3-d7c3-189237e2116a"
      },
      "outputs": [
        {
          "data": {
            "text/plain": [
              "array([[-0.297612  ,  0.26106676],\n",
              "       [ 0.43000701,  0.49323561],\n",
              "       [ 2.34182967,  1.01697315],\n",
              "       [-0.27243463,  0.84827506],\n",
              "       [-0.47516946, -0.00579696]])"
            ]
          },
          "execution_count": 38,
          "metadata": {},
          "output_type": "execute_result"
        }
      ],
      "source": [
        "X_pca[:5]"
      ]
    },
    {
      "cell_type": "markdown",
      "metadata": {
        "id": "kQHc5fhxjkvv"
      },
      "source": [
        "## K-Means\n",
        "\n",
        "O K-Means é um dos algoritmos mais conhecidos para agrupamento não supervisionado. Seu objetivo é **dividir um conjunto de observações em k grupos (clusters) de modo que os elementos dentro de um mesmo grupo sejam mais parecidos entre si do que em relação aos elementos de outros grupos** (lembrando muito o kNN). O processo funciona de forma iterativa: primeiro, escolhem-se aleatoriamente k pontos iniciais (centroides). Em seguida, cada observação é atribuída ao centroide mais próximo, formando grupos temporários. Os centroides são então recalculados com base na média das observações em cada grupo, e o processo se repete até que não haja mais mudanças significativas. O resultado final é uma partição dos dados que revela padrões de similaridade latentes. Essa técnica é especialmente útil em marketing.\n",
        "\n",
        "Mas como escolher o número ideal de grupos? Existe uma métrica chamada **Silhouette Score**. O Silhouette Score é uma métrica que avalia a qualidade de um agrupamento. Quando usamos algoritmos como o K-Means, precisamos decidir o número de grupos (k) mais adequado. O Silhouette ajuda justamente nessa escolha, medindo o quão bem cada ponto está posicionado em relação ao seu próprio cluster e aos demais. O cálculo considera dois fatores: (1) a cohesão, ou seja, o quão próximo um ponto está dos elementos do seu próprio grupo; e (2) a separação, isto é, o quão distante ele está dos elementos de outros grupos.\n",
        "\n",
        "O resultado é um valor que varia entre -1 e 1. Valores próximos de 1 indicam que os pontos estão bem agrupados dentro de seus clusters e distantes dos demais (ou seja, os grupos estão bem definidos). Valores próximos de 0 sugerem sobreposição entre clusters, indicando que a separação não é clara. Já valores negativos indicam que muitos pontos podem ter sido atribuídos ao grupo “errado”. Na prática, o Silhouette Score permite comparar diferentes segmentações (por exemplo, k=2, k=3, k=4) e escolher aquela que apresenta a melhor combinação entre coesão interna e separação externa, garantindo uma segmentação mais robusta e interpretável.\n",
        "\n",
        "Executaremos, com um `for`, vários k's possíveis, guardaremos o valor e aí veremos qual o maior, para então utilizá-lo definitivamente."
      ]
    },
    {
      "cell_type": "code",
      "execution_count": 39,
      "metadata": {
        "colab": {
          "base_uri": "https://localhost:8080/"
        },
        "id": "4TA-umDcjiW7",
        "outputId": "9cfd23ab-f7f6-4f60-fa68-74d340a9839f"
      },
      "outputs": [
        {
          "name": "stdout",
          "output_type": "stream",
          "text": [
            "[INFO] Silhouette por K (2..20):\n",
            "K=2: 0.3793\n",
            "K=3: 0.3755\n",
            "K=4: 0.3231\n",
            "K=5: 0.3514\n",
            "K=6: 0.3732\n",
            "K=7: 0.3472\n",
            "K=8: 0.3506\n",
            "K=9: 0.3541\n",
            "K=10: 0.3537\n",
            "K=11: 0.3524\n",
            "K=12: 0.3461\n",
            "K=13: 0.3404\n",
            "K=14: 0.3487\n",
            "K=15: 0.3483\n",
            "K=16: 0.3439\n",
            "K=17: 0.3441\n",
            "K=18: 0.3476\n",
            "K=19: 0.3378\n",
            "K=20: 0.3506\n"
          ]
        }
      ],
      "source": [
        "scores = {}\n",
        "for k in range(2, 21): # Vou fazer até 20 K (21 - 1)\n",
        "  km_tmp = KMeans(n_clusters=k, n_init=10, random_state=42)\n",
        "  labels_tmp = km_tmp.fit_predict(X_pca)\n",
        "  score_tmp = silhouette_score(X_pca, labels_tmp)\n",
        "  scores[k] = score_tmp\n",
        "\n",
        "print(\"[INFO] Silhouette por K (2..20):\")\n",
        "for k, score in scores.items():\n",
        "  print(f\"K={k}: {score:.4f}\")"
      ]
    },
    {
      "cell_type": "code",
      "execution_count": 40,
      "metadata": {
        "colab": {
          "base_uri": "https://localhost:8080/",
          "height": 564
        },
        "id": "7yhnUr-ppJe6",
        "outputId": "a96a845b-1376-4d19-d986-0374d0938181"
      },
      "outputs": [
        {
          "data": {
            "image/png": "[encoded data removed]",
            "text/plain": [
              "<Figure size 1000x800 with 1 Axes>"
            ]
          },
          "metadata": {},
          "output_type": "display_data"
        }
      ],
      "source": [
        "# Plota o silhouette score\n",
        "plt.figure(figsize=(10, 8))\n",
        "plt.plot(list(scores.keys()), list(scores.values()), marker='o')\n",
        "plt.xlabel('Número de Clusters (K)')\n",
        "plt.ylabel('Silhouette Score')\n",
        "plt.xticks(list(scores.keys()))\n",
        "plt.title('Silhouette Score por Número de Clusters (K)')\n",
        "plt.show()"
      ]
    },
    {
      "cell_type": "code",
      "execution_count": 41,
      "metadata": {
        "colab": {
          "base_uri": "https://localhost:8080/"
        },
        "id": "hrOxnXgblgw9",
        "outputId": "e3256afe-0cc5-428e-d856-22b0fcd01be2"
      },
      "outputs": [
        {
          "name": "stdout",
          "output_type": "stream",
          "text": [
            "[INFO] Melhor K: 6\n"
          ]
        }
      ],
      "source": [
        "best_k = max(scores, key=scores.get) + 4 # O melhor, nos dados fakes, foi o 2, mas eu quis colocar o 6 para termos variabilidade, por isso somei 4.k\n",
        "print(\"[INFO] Melhor K:\", best_k)"
      ]
    },
    {
      "cell_type": "markdown",
      "metadata": {
        "id": "dmx1qwednkb3"
      },
      "source": [
        "Agora rodamos com o `best_k`"
      ]
    },
    {
      "cell_type": "code",
      "execution_count": 42,
      "metadata": {
        "colab": {
          "base_uri": "https://localhost:8080/",
          "height": 217
        },
        "id": "jbCLra9LmOP2",
        "outputId": "bb20a8ea-c033-4e46-fa61-c833bcac99e1"
      },
      "outputs": [
        {
          "name": "stdout",
          "output_type": "stream",
          "text": [
            "[INFO] Tabela com rótulos:\n"
          ]
        },
        {
          "data": {
            "application/vnd.microsoft.datawrangler.viewer.v0+json": {
              "columns": [
                {
                  "name": "index",
                  "rawType": "int64",
                  "type": "integer"
                },
                {
                  "name": "Idade",
                  "rawType": "int64",
                  "type": "integer"
                },
                {
                  "name": "Gênero",
                  "rawType": "object",
                  "type": "string"
                },
                {
                  "name": "EstadoCivil",
                  "rawType": "object",
                  "type": "string"
                },
                {
                  "name": "Escolaridade",
                  "rawType": "object",
                  "type": "string"
                },
                {
                  "name": "RendaMensal",
                  "rawType": "object",
                  "type": "string"
                },
                {
                  "name": "TempoNoSite(min)",
                  "rawType": "float64",
                  "type": "float"
                },
                {
                  "name": "VisitasMensais",
                  "rawType": "int64",
                  "type": "integer"
                },
                {
                  "name": "ValorMedioCompra",
                  "rawType": "int64",
                  "type": "integer"
                },
                {
                  "name": "CategoriaFavorita",
                  "rawType": "object",
                  "type": "string"
                },
                {
                  "name": "Dispositivo",
                  "rawType": "object",
                  "type": "string"
                },
                {
                  "name": "Cluster",
                  "rawType": "int32",
                  "type": "integer"
                }
              ],
              "ref": "e4ff889d-b7c2-423f-8e9d-ea7529b3eb29",
              "rows": [
                [
                  "0",
                  "56",
                  "Feminino",
                  "Casado",
                  "Pós-graduação",
                  "5 a 10 mil",
                  "8.68",
                  "5",
                  "100",
                  "Alimentos",
                  "Mobile",
                  "4"
                ],
                [
                  "1",
                  "69",
                  "Feminino",
                  "Divorciado",
                  "Médio",
                  "2 a 5 mil",
                  "15.51",
                  "4",
                  "200",
                  "Eletrônicos",
                  "Mobile",
                  "4"
                ],
                [
                  "2",
                  "46",
                  "Feminino",
                  "Solteiro",
                  "Médio",
                  "Até 2 mil",
                  "8.61",
                  "5",
                  "1000",
                  "Eletrônicos",
                  "Tablet",
                  "1"
                ],
                [
                  "3",
                  "32",
                  "Feminino",
                  "Solteiro",
                  "Superior",
                  "Acima de 20 mil",
                  "0.01",
                  "8",
                  "200",
                  "Casa",
                  "Desktop",
                  "4"
                ],
                [
                  "4",
                  "60",
                  "Masculino",
                  "Casado",
                  "Superior",
                  "5 a 10 mil",
                  "5.06",
                  "4",
                  "300",
                  "Alimentos",
                  "Mobile",
                  "2"
                ]
              ],
              "shape": {
                "columns": 11,
                "rows": 5
              }
            },
            "text/html": [
              "<div>\n",
              "<style scoped>\n",
              "    .dataframe tbody tr th:only-of-type {\n",
              "        vertical-align: middle;\n",
              "    }\n",
              "\n",
              "    .dataframe tbody tr th {\n",
              "        vertical-align: top;\n",
              "    }\n",
              "\n",
              "    .dataframe thead th {\n",
              "        text-align: right;\n",
              "    }\n",
              "</style>\n",
              "<table border=\"1\" class=\"dataframe\">\n",
              "  <thead>\n",
              "    <tr style=\"text-align: right;\">\n",
              "      <th></th>\n",
              "      <th>Idade</th>\n",
              "      <th>Gênero</th>\n",
              "      <th>EstadoCivil</th>\n",
              "      <th>Escolaridade</th>\n",
              "      <th>RendaMensal</th>\n",
              "      <th>TempoNoSite(min)</th>\n",
              "      <th>VisitasMensais</th>\n",
              "      <th>ValorMedioCompra</th>\n",
              "      <th>CategoriaFavorita</th>\n",
              "      <th>Dispositivo</th>\n",
              "      <th>Cluster</th>\n",
              "    </tr>\n",
              "  </thead>\n",
              "  <tbody>\n",
              "    <tr>\n",
              "      <th>0</th>\n",
              "      <td>56</td>\n",
              "      <td>Feminino</td>\n",
              "      <td>Casado</td>\n",
              "      <td>Pós-graduação</td>\n",
              "      <td>5 a 10 mil</td>\n",
              "      <td>8.68</td>\n",
              "      <td>5</td>\n",
              "      <td>100</td>\n",
              "      <td>Alimentos</td>\n",
              "      <td>Mobile</td>\n",
              "      <td>4</td>\n",
              "    </tr>\n",
              "    <tr>\n",
              "      <th>1</th>\n",
              "      <td>69</td>\n",
              "      <td>Feminino</td>\n",
              "      <td>Divorciado</td>\n",
              "      <td>Médio</td>\n",
              "      <td>2 a 5 mil</td>\n",
              "      <td>15.51</td>\n",
              "      <td>4</td>\n",
              "      <td>200</td>\n",
              "      <td>Eletrônicos</td>\n",
              "      <td>Mobile</td>\n",
              "      <td>4</td>\n",
              "    </tr>\n",
              "    <tr>\n",
              "      <th>2</th>\n",
              "      <td>46</td>\n",
              "      <td>Feminino</td>\n",
              "      <td>Solteiro</td>\n",
              "      <td>Médio</td>\n",
              "      <td>Até 2 mil</td>\n",
              "      <td>8.61</td>\n",
              "      <td>5</td>\n",
              "      <td>1000</td>\n",
              "      <td>Eletrônicos</td>\n",
              "      <td>Tablet</td>\n",
              "      <td>1</td>\n",
              "    </tr>\n",
              "    <tr>\n",
              "      <th>3</th>\n",
              "      <td>32</td>\n",
              "      <td>Feminino</td>\n",
              "      <td>Solteiro</td>\n",
              "      <td>Superior</td>\n",
              "      <td>Acima de 20 mil</td>\n",
              "      <td>0.01</td>\n",
              "      <td>8</td>\n",
              "      <td>200</td>\n",
              "      <td>Casa</td>\n",
              "      <td>Desktop</td>\n",
              "      <td>4</td>\n",
              "    </tr>\n",
              "    <tr>\n",
              "      <th>4</th>\n",
              "      <td>60</td>\n",
              "      <td>Masculino</td>\n",
              "      <td>Casado</td>\n",
              "      <td>Superior</td>\n",
              "      <td>5 a 10 mil</td>\n",
              "      <td>5.06</td>\n",
              "      <td>4</td>\n",
              "      <td>300</td>\n",
              "      <td>Alimentos</td>\n",
              "      <td>Mobile</td>\n",
              "      <td>2</td>\n",
              "    </tr>\n",
              "  </tbody>\n",
              "</table>\n",
              "</div>"
            ],
            "text/plain": [
              "   Idade     Gênero EstadoCivil   Escolaridade      RendaMensal  \\\n",
              "0     56   Feminino      Casado  Pós-graduação       5 a 10 mil   \n",
              "1     69   Feminino  Divorciado          Médio        2 a 5 mil   \n",
              "2     46   Feminino    Solteiro          Médio        Até 2 mil   \n",
              "3     32   Feminino    Solteiro       Superior  Acima de 20 mil   \n",
              "4     60  Masculino      Casado       Superior       5 a 10 mil   \n",
              "\n",
              "   TempoNoSite(min)  VisitasMensais  ValorMedioCompra CategoriaFavorita  \\\n",
              "0              8.68               5               100         Alimentos   \n",
              "1             15.51               4               200       Eletrônicos   \n",
              "2              8.61               5              1000       Eletrônicos   \n",
              "3              0.01               8               200              Casa   \n",
              "4              5.06               4               300         Alimentos   \n",
              "\n",
              "  Dispositivo  Cluster  \n",
              "0      Mobile        4  \n",
              "1      Mobile        4  \n",
              "2      Tablet        1  \n",
              "3     Desktop        4  \n",
              "4      Mobile        2  "
            ]
          },
          "execution_count": 42,
          "metadata": {},
          "output_type": "execute_result"
        }
      ],
      "source": [
        "kmeans = KMeans(n_clusters=best_k, n_init=10, random_state=42)\n",
        "labels = kmeans.fit_predict(X_pca)\n",
        "df_clusters = df.copy()\n",
        "df_clusters['Cluster'] = labels\n",
        "print(\"[INFO] Tabela com rótulos:\")\n",
        "df_clusters.head()"
      ]
    },
    {
      "cell_type": "markdown",
      "metadata": {
        "id": "hqn2Pgrfoedx"
      },
      "source": [
        "### Entendendo cada cluster\n",
        "\n",
        "Para entender cada segmento/cluster, podemos extrair métricas de cada um deles. Para as variáveis numéricas, podemos extrair média/mediana. Para as categóricas, podemos entender a % de cada categoria interna."
      ]
    },
    {
      "cell_type": "code",
      "execution_count": 43,
      "metadata": {
        "colab": {
          "base_uri": "https://localhost:8080/"
        },
        "id": "kmX_bgxDn0Yo",
        "outputId": "9cfdd02a-f0ba-402b-fa8c-c35de8cc0242"
      },
      "outputs": [
        {
          "name": "stdout",
          "output_type": "stream",
          "text": [
            "\n",
            "[Médias numéricas por cluster]\n",
            "         Idade  TempoNoSite(min)  VisitasMensais  ValorMedioCompra\n",
            "Cluster                                                           \n",
            "0        37.41              3.31            2.88            147.15\n",
            "1        38.29             12.72            6.40            580.95\n",
            "2        56.92              2.25            4.73            131.19\n",
            "3        27.81             10.01            3.67            365.48\n",
            "4        41.69              5.78            5.55            226.27\n",
            "5        54.68              3.07            8.42            221.21\n",
            "\n",
            "[Distribuição de 'Gênero' por cluster' (%)]\n",
            "Gênero   Feminino  Masculino  Outro\n",
            "Cluster                            \n",
            "0            44.7       54.5    0.8\n",
            "1            52.4       40.5    7.1\n",
            "2            45.9       48.6    5.5\n",
            "3            26.2       61.9   11.9\n",
            "4            50.0       45.8    4.2\n",
            "5            62.1       34.8    3.0\n",
            "\n",
            "\n",
            "[Distribuição de 'EstadoCivil' por cluster' (%)]\n",
            "EstadoCivil  Casado  Divorciado  Solteiro  Viúvo\n",
            "Cluster                                         \n",
            "0              45.5        13.8      37.4    3.3\n",
            "1              47.6         9.5      33.3    9.5\n",
            "2              42.2         9.2      41.3    7.3\n",
            "3              33.3        19.0      40.5    7.1\n",
            "4              42.4        11.9      44.9    0.8\n",
            "5              48.5         6.1      42.4    3.0\n",
            "\n",
            "\n",
            "[Distribuição de 'Escolaridade' por cluster' (%)]\n",
            "Escolaridade  Fundamental  Médio  Pós-graduação  Superior\n",
            "Cluster                                                  \n",
            "0                    17.9   27.6           18.7      35.8\n",
            "1                     9.5   40.5           16.7      33.3\n",
            "2                    13.8   35.8           11.9      38.5\n",
            "3                    19.0   38.1           21.4      21.4\n",
            "4                    13.6   36.4           11.9      38.1\n",
            "5                    22.7   31.8           12.1      33.3\n",
            "\n",
            "\n",
            "[Distribuição de 'RendaMensal' por cluster' (%)]\n",
            "RendaMensal  10 a 20 mil  2 a 5 mil  5 a 10 mil  Acima de 20 mil  Até 2 mil\n",
            "Cluster                                                                    \n",
            "0                   15.4       34.1        20.3              4.9       25.2\n",
            "1                   19.0       33.3         9.5              2.4       35.7\n",
            "2                   14.7       37.6        26.6              1.8       19.3\n",
            "3                   21.4       23.8        23.8              2.4       28.6\n",
            "4                   14.4       35.6        22.9              6.8       20.3\n",
            "5                   13.6       40.9        15.2              7.6       22.7\n",
            "\n",
            "\n",
            "[Distribuição de 'CategoriaFavorita' por cluster' (%)]\n",
            "CategoriaFavorita  Alimentos  Casa  Eletrônicos  Esportes  Livros  Moda\n",
            "Cluster                                                                \n",
            "0                       13.8   8.1         21.1      17.1    10.6  29.3\n",
            "1                       19.0   7.1         23.8      14.3    16.7  19.0\n",
            "2                       14.7  15.6         19.3      11.0    13.8  25.7\n",
            "3                       14.3  11.9         23.8      14.3     9.5  26.2\n",
            "4                       22.0  11.9         13.6      18.6     8.5  25.4\n",
            "5                       24.2  12.1         22.7      15.2     3.0  22.7\n",
            "\n",
            "\n",
            "[Distribuição de 'Dispositivo' por cluster' (%)]\n",
            "Dispositivo  Desktop  Mobile  Tablet\n",
            "Cluster                             \n",
            "0               38.2    47.2    14.6\n",
            "1               59.5    26.2    14.3\n",
            "2               30.3    57.8    11.9\n",
            "3               45.2    42.9    11.9\n",
            "4               47.5    42.4    10.2\n",
            "5               31.8    57.6    10.6\n",
            "\n"
          ]
        }
      ],
      "source": [
        "print(\"\\n[Médias numéricas por cluster]\")\n",
        "print(df_clusters.groupby(\"Cluster\")[numericas].mean().round(2)) # Aqui tiramos a média e usamos .round(2) para arredondar a 2 casas decimais.\n",
        "\n",
        "for c in categoricas:\n",
        "  print(f\"\\n[Distribuição de '{c}' por cluster' (%)]\")\n",
        "  dist = (\n",
        "      df_clusters.groupby(\"Cluster\")[c]\n",
        "      .value_counts(normalize=True) # Tiramos a proporção de cada\n",
        "      .rename(\"pct\")                # Renomeamos pra pct\n",
        "      .mul(100)                     # Multiplicamos por 100\n",
        "      .round(1)                     # arredondamos pra 1 casa decimal\n",
        "      .unstack(fill_value=0)        # Fazemos um pivot (deitamos a tabela)\n",
        "  )\n",
        "  print(dist)\n",
        "  print() # só pra pular linha"
      ]
    },
    {
      "cell_type": "markdown",
      "metadata": {
        "id": "Ydzw2ZLvpA1T"
      },
      "source": [
        "## Visualizando os clusters"
      ]
    },
    {
      "cell_type": "code",
      "execution_count": 44,
      "metadata": {
        "colab": {
          "base_uri": "https://localhost:8080/",
          "height": 607
        },
        "id": "tN0x_Hy8n96E",
        "outputId": "f26c46b8-3b2c-486d-e8cb-a5d9274ab146"
      },
      "outputs": [
        {
          "data": {
            "image/png": "[encoded data removed]",
            "text/plain": [
              "<Figure size 800x600 with 1 Axes>"
            ]
          },
          "metadata": {},
          "output_type": "display_data"
        }
      ],
      "source": [
        "plt.figure(figsize=(8, 6))\n",
        "scatter = plt.scatter(X_pca[:, 0], X_pca[:, 1], c=labels)\n",
        "plt.xlabel(\"PCA 1\")\n",
        "plt.ylabel(\"PCA 2\")\n",
        "plt.title(f\"K-Means (k={best_k}) no espaço 2D do PCA\")\n",
        "handles, _ = scatter.legend_elements(prop=\"colors\", alpha=0.6)\n",
        "plt.legend(handles, [f\"Cluster {i}\" for i in range(best_k)], title=\"Clusters\", loc=\"best\")\n",
        "plt.tight_layout()"
      ]
    },
    {
      "cell_type": "markdown",
      "metadata": {
        "id": "ByYIPXj1qROP"
      },
      "source": [
        "# Agora, a IA...\n",
        "\n",
        "> Prompt: Você é um analista de marketing sênior. Considerando os seguintes dados, construa personas para cada cluster, que tenham relação com as métricas entregues. Ao final, crie um resumo estratégico.\n",
        "\n",
        "> Resposta:\n",
        "\n",
        "📌 Cluster 0 – Consumidores Racionais de Média Renda\n",
        "\n",
        "\t•\tIdade média: 37 anos\n",
        "\t•\tGênero predominante: ligeira maioria masculina (54,5%)\n",
        "\t•\tEstado civil: quase metade casados (45,5%), mas muitos solteiros (37,4%)\n",
        "\t•\tRenda: concentrada entre 2 a 5 mil (34,1%) e até 2 mil (25,2%)\n",
        "\t•\tEscolaridade: equilibrada, mas com destaque para ensino superior (35,8%)\n",
        "\t•\tComportamento digital: acessam pouco o site (3,3 min), ~3 visitas/mês\n",
        "\t•\tCompra média: R$ 147,15\n",
        "\t•\tCategoria favorita: Moda (29,3%) e Eletrônicos (21,1%)\n",
        "\t•\tDispositivo: majoritariamente mobile (47,2%)\n",
        "\n",
        "👉 Persona: “André, 37 anos, analista de escritório. Compra online quando precisa, principalmente roupas e eletrônicos. Busca preço acessível, faz compras rápidas pelo celular, não explora muito o site. Prefere praticidade a experiências longas de navegação.”\n",
        "\n",
        "⸻\n",
        "\n",
        "📌 Cluster 1 – Premium Exploradores Digitais\n",
        "\n",
        "\t•\tIdade média: 38 anos\n",
        "\t•\tGênero predominante: feminino (52,4%), presença de pessoas que se identificam como “outro” (7,1%)\n",
        "\t•\tEstado civil: casados (47,6%), mas forte presença de solteiros (33,3%)\n",
        "\t•\tRenda: faixa mais baixa até 2 mil é expressiva (35,7%), mas também aparecem em 10 a 20 mil (19%)\n",
        "\t•\tEscolaridade: ensino médio (40,5%) e superior (33,3%)\n",
        "\t•\tComportamento digital: passam bastante tempo no site (12,7 min), 6,4 visitas/mês\n",
        "\t•\tCompra média: muito elevada – R$ 580,95\n",
        "\t•\tCategoria favorita: Eletrônicos (23,8%), Livros (16,7%) e Alimentos (19%)\n",
        "\t•\tDispositivo: forte uso de desktop (59,5%)\n",
        "\n",
        "👉 Persona: “Fernanda, 38 anos, profissional liberal. Explora detalhadamente o site, gosta de comparar e avaliar produtos antes de comprar. Valoriza eletrônicos de ponta e experiências digitais mais ricas. Apesar da renda diversificada no cluster, é quem mais gasta individualmente, demonstrando disposição para investir em compras maiores.”\n",
        "\n",
        "⸻\n",
        "\n",
        "📌 Cluster 2 – Tradicionalistas de Baixa Frequência\n",
        "\n",
        "\t•\tIdade média: 57 anos\n",
        "\t•\tGênero: equilíbrio entre masculino (48,6%) e feminino (45,9%)\n",
        "\t•\tEstado civil: maioria casados (42,2%) e solteiros (41,3%)\n",
        "\t•\tRenda: prevalece 2 a 5 mil (37,6%), seguido por 5 a 10 mil (26,6%)\n",
        "\t•\tEscolaridade: ensino superior (38,5%) e médio (35,8%)\n",
        "\t•\tComportamento digital: baixíssimo tempo de navegação (2,2 min), mas ~5 visitas/mês\n",
        "\t•\tCompra média: baixa – R$ 131,19\n",
        "\t•\tCategoria favorita: Moda (25,7%) e Casa (15,6%)\n",
        "\t•\tDispositivo: preferem mobile (57,8%)\n",
        "\n",
        "👉 Persona: “José, 56 anos, servidor público prestes a se aposentar. Usa o site de forma prática e direta, faz compras simples (roupas, itens para casa), sem gastar muito tempo navegando. Valoriza funcionalidade e confiança da marca.”\n",
        "\n",
        "⸻\n",
        "\n",
        "📌 Cluster 3 – Jovens Aspiracionais\n",
        "\n",
        "\t•\tIdade média: 28 anos\n",
        "\t•\tGênero: predominância masculina (61,9%) e presença significativa de “outro” (11,9%)\n",
        "\t•\tEstado civil: mais solteiros (40,5%) e menor taxa de casados (33,3%)\n",
        "\t•\tRenda: distribuída entre até 2 mil (28,6%), 2 a 5 mil (23,8%) e 5 a 10 mil (23,8%)\n",
        "\t•\tEscolaridade: ensino médio (38,1%), mas também destaque para pós-graduação (21,4%)\n",
        "\t•\tComportamento digital: alta permanência no site (10 min), ~3,7 visitas/mês\n",
        "\t•\tCompra média: R$ 365,48\n",
        "\t•\tCategoria favorita: Moda (26,2%) e Eletrônicos (23,8%)\n",
        "\t•\tDispositivo: equilibrado entre desktop (45,2%) e mobile (42,9%)\n",
        "\n",
        "👉 Persona: “Lucas, 27 anos, estudante de pós-graduação. Busca se afirmar socialmente com moda e tecnologia, navega bastante no site antes de comprar. Apesar da renda ainda limitada, está disposto a gastar relativamente mais em itens que considera relevantes para seu estilo de vida.”\n",
        "\n",
        "⸻\n",
        "\n",
        "📌 Cluster 4 – Consumidores Pragmáticos de Renda Média\n",
        "\n",
        "\t•\tIdade média: 42 anos\n",
        "\t•\tGênero: equilíbrio entre feminino (50%) e masculino (45,8%)\n",
        "\t•\tEstado civil: maioria solteiros (44,9%)\n",
        "\t•\tRenda: concentrada entre 2 a 5 mil (35,6%) e 5 a 10 mil (22,9%)\n",
        "\t•\tEscolaridade: superior (38,1%) e médio (36,4%)\n",
        "\t•\tComportamento digital: tempo moderado no site (5,8 min), ~5,5 visitas/mês\n",
        "\t•\tCompra média: R$ 226,27\n",
        "\t•\tCategoria favorita: Alimentos (22%), Moda (25,4%) e Esportes (18,6%)\n",
        "\t•\tDispositivo: equilibrado desktop (47,5%) e mobile (42,4%)\n",
        "\n",
        "👉 Persona: “Patrícia, 41 anos, profissional de escritório. Equilibra frequência de visitas e gasto médio, compra produtos práticos como alimentos, esportes e roupas. Navega com alguma calma, mas sem explorar tanto quanto o cluster premium. Foca em custo-benefício.”\n",
        "\n",
        "⸻\n",
        "\n",
        "📌 Cluster 5 – Heavy Users de Renda Média Alta\n",
        "\n",
        "\t•\tIdade média: 55 anos\n",
        "\t•\tGênero predominante: feminino (62,1%)\n",
        "\t•\tEstado civil: quase metade casados (48,5%), muitos solteiros (42,4%)\n",
        "\t•\tRenda: maioria entre 2 a 5 mil (40,9%), mas também em até 2 mil (22,7%) e acima de 20 mil (7,6%)\n",
        "\t•\tEscolaridade: variada, mas presença de ensino médio (31,8%) e superior (33,3%)\n",
        "\t•\tComportamento digital: tempo reduzido no site (3 min), mas altíssima frequência (8,4 visitas/mês)\n",
        "\t•\tCompra média: R$ 221,21\n",
        "\t•\tCategoria favorita: Alimentos (24,2%), Eletrônicos (22,7%) e Moda (22,7%)\n",
        "\t•\tDispositivo: predominantemente mobile (57,6%)\n",
        "\n",
        "👉 Persona: “Maria, 54 anos, empresária. Visita o site frequentemente, mas faz compras rápidas e recorrentes, principalmente alimentos e itens básicos. É fiel, mas prefere praticidade a longas explorações. Usa o celular quase sempre para comprar.”\n",
        "\n",
        "⸻\n",
        "\n",
        "🔑 Resumo Estratégico:\n",
        "\n",
        "\t•\tClusters 1 e 3 são os mais aspiracionais, com ticket médio alto e foco em experiência (premium explorers e jovens aspiracionais).\n",
        "\t•\tClusters 0, 2 e 4 representam perfis mais racionais/pragmáticos, onde ofertas, descontos e praticidade são decisivos.\n",
        "\t•\tCluster 5 mostra um perfil de heavy user, alto em frequência, menor ticket por compra, mas forte para fidelização e programas de assinatura."
      ]
    },
    {
      "cell_type": "markdown",
      "metadata": {
        "id": "-bBaOKChq4GD"
      },
      "source": [
        "> Prompt: Monte estratégias de comunicação e campanhas específicas para cada persona (ex.: canais ideais, tom de voz, tipos de oferta), traduzindo os perfis em ações de marketing.\n",
        "\n",
        "> Resposta:\n",
        "\n",
        "Cluster 0 – Consumidores Racionais de Média Renda (“André”)\n",
        "\n",
        "•\tPerfil-chave: compra por necessidade, ticket médio baixo, mobile-first.\n",
        "\n",
        "•\tCanais ideais:\n",
        "  •\tE-mail marketing simples e direto.\n",
        "  •\tPush notifications no app ou mobile.\n",
        "  •\tRedes sociais populares (Facebook, Instagram) com posts promocionais.\n",
        "\n",
        "•\tTom de voz: pragmático, objetivo, destacando benefícios funcionais (“compre agora”, “leve mais por menos”).\n",
        "\n",
        "•\tCampanhas:\n",
        "  •\tPromoções relâmpago e cupons de desconto.\n",
        "  •\tCombos e kits econômicos.\n",
        "  •\tRemarketing focado em produtos vistos, mas não comprados.\n",
        "\n",
        "•\tOferta ideal: “Frete grátis em compras acima de R$ 200” ou “leve 3, pague 2”.\n",
        "\n",
        "⸻\n",
        "\n",
        "Cluster 1 – Premium Exploradores Digitais (“Fernanda”)\n",
        "\n",
        "•\tPerfil-chave: ticket médio mais alto, exploram o site, buscam experiência premium.\n",
        "\n",
        "•\tCanais ideais:\n",
        "  •\tNewsletter premium com conteúdo exclusivo.\n",
        "  •\tLinkedIn Ads para reforçar status e diferenciação.\n",
        "  •\tYouTube e Instagram com vídeos explicativos de produtos.\n",
        "\n",
        "•\tTom de voz: aspiracional, sofisticado, consultivo (“conheça o que há de melhor”, “experiência exclusiva para você”).\n",
        "\n",
        "•\tCampanhas:\n",
        "  •\tPré-lançamentos de produtos com acesso antecipado.\n",
        "  •\tProgramas de fidelidade diferenciados (VIP club).\n",
        "  •\tConteúdo educativo (reviews, guias de compra).\n",
        "\n",
        "•\tOferta ideal: “Acesso exclusivo a lançamentos premium” ou cashback em eletrônicos.\n",
        "\n",
        "⸻\n",
        "\n",
        "Cluster 2 – Tradicionalistas de Baixa Frequência (“José”)\n",
        "\n",
        "•\tPerfil-chave: idade mais alta, baixa interação, compras funcionais.\n",
        "\n",
        "•\tCanais ideais:\n",
        "\t•\tE-mail marketing básico com foco em praticidade.\n",
        "\t•\tSMS promocional (direto ao ponto, baixo custo).\n",
        "\t•\tFacebook Ads segmentado para público maduro.\n",
        "\n",
        "•\tTom de voz: claro, confiável, sem exageros (“praticidade e confiança para o seu dia a dia”).\n",
        "\n",
        "•\tCampanhas:\n",
        "\t•\tProdutos do cotidiano (moda básica, utilidades domésticas).\n",
        "\t•\t“Top sellers” e recomendações práticas.\n",
        "\t•\tGarantias estendidas e facilidades de pagamento.\n",
        "\n",
        "•\tOferta ideal: “Compre sem preocupação: garantia extra grátis” ou descontos em compras recorrentes.\n",
        "\n",
        "⸻\n",
        "\n",
        "Cluster 3 – Jovens Aspiracionais (“Lucas”)\n",
        "\n",
        "•\tPerfil-chave: jovens, aspiracionais, gastam acima da média em moda e eletrônicos.\n",
        "\n",
        "•\tCanais ideais:\n",
        "\t•\tInstagram e TikTok Ads com forte apelo visual.\n",
        "\t•\tInfluenciadores digitais para recomendação social.\n",
        "\t•\tGamificação no app/site (badges, pontos, desafios).\n",
        "\n",
        "•\tTom de voz: jovem, dinâmico, conectado (“seu estilo, sua vibe”, “a moda que fala por você”).\n",
        "\n",
        "•\tCampanhas:\n",
        "\t•\t“Drops” de moda limitada ou collabs exclusivas.\n",
        "\t•\tCupons para compras compartilhadas com amigos.\n",
        "\t•\tConteúdos de lifestyle com storytelling aspiracional.\n",
        "\n",
        "•\tOferta ideal: “Ganhe 15% de desconto se compartilhar sua compra no Instagram” ou collabs de edição limitada.\n",
        "\n",
        "⸻\n",
        "\n",
        "Cluster 4 – Consumidores Pragmáticos de Renda Média (“Patrícia”)\n",
        "\n",
        "•\tPerfil-chave: equilibrados, valorizam custo-benefício, compram alimentos, moda e esportes.\n",
        "\n",
        "•\tCanais ideais:\n",
        "\t•\tE-mail marketing segmentado por categoria de interesse.\n",
        "\t•\tInstagram e Facebook Ads com foco em utilidade.\n",
        "\t•\tMarketplaces parceiros (buscam comparação de preços).\n",
        "\n",
        "•\tTom de voz: racional, acessível, reforçando conveniência e economia (“tudo o que você precisa em um só lugar”).\n",
        "\n",
        "•\tCampanhas:\n",
        "\t•\tKits de produtos (moda + esportes, alimentos + utilidades).\n",
        "\t•\tBenefícios como parcelamento sem juros.\n",
        "\t•\tConteúdo prático em blog/newsletter (“5 dicas para economizar comprando online”).\n",
        "\n",
        "•\tOferta ideal: “Cashback de 10% em compras semanais” ou programas de pontos.\n",
        "\n",
        "⸻\n",
        "\n",
        "Cluster 5 – Heavy Users de Renda Média Alta (“Maria”)\n",
        "\n",
        "•\tPerfil-chave: alta frequência de visitas, compras rápidas e recorrentes, mobile-first.\n",
        "\n",
        "•\tCanais ideais:\n",
        "\t•\tApp com push notifications personalizadas.\n",
        "\t•\tWhatsApp Marketing para ofertas imediatas.\n",
        "\t•\tPrograma de fidelidade no app.\n",
        "\n",
        "•\tTom de voz: próximo, ágil, focado em conveniência (“seu pedido rápido, na palma da mão”).\n",
        "\n",
        "•\tCampanhas:\n",
        "\t•\tPrograma de assinatura de produtos (alimentos, moda básica).\n",
        "\t•\tPromoções exclusivas para compras rápidas.\n",
        "\t•\t“Ofertas do dia” notificadas direto no celular.\n",
        "\n",
        "•\tOferta ideal: “Assine e economize 20% todo mês” ou promoções para compras recorrentes.\n",
        "\n",
        "⸻\n",
        "\n",
        "🔑 Insights Gerais\n",
        "\n",
        "\t•\tClusters 1 e 3 → foco em diferenciação, experiência premium, branding forte.\n",
        "\t•\tClusters 0, 2 e 4 → apelo em conveniência, preço e confiança.\n",
        "\t•\tCluster 5 → altíssimo potencial de fidelização via recorrência (assinaturas, clube de vantagens)."
      ]
    },
    {
      "cell_type": "code",
      "execution_count": null,
      "metadata": {
        "id": "QBTxyEgGpETB"
      },
      "outputs": [],
      "source": []
    }
  ],
  "metadata": {
    "colab": {
      "provenance": []
    },
    "kernelspec": {
      "display_name": "Python 3",
      "name": "python3"
    },
    "language_info": {
      "codemirror_mode": {
        "name": "ipython",
        "version": 3
      },
      "file_extension": ".py",
      "mimetype": "text/x-python",
      "name": "python",
      "nbconvert_exporter": "python",
      "pygments_lexer": "ipython3",
      "version": "3.12.10"
    }
  },
  "nbformat": 4,
  "nbformat_minor": 0
}
